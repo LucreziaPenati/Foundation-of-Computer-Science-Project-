{
 "cells": [
  {
   "cell_type": "markdown",
   "id": "d1a50c78-6c9c-400a-92b0-53cbabba941f",
   "metadata": {},
   "source": [
    "You have to work on the (NYC Trip Fare)[https://www.kaggle.com/api/v1/datasets/download/diishasiing/revenue-for-cab-drivers/archive.zip] repository. You can skip the store_and_fwd_flag column, but it’s a bonus point if you can manage it correctly.\n",
    "\n",
    "Notes\n",
    "1. It is mandatory to use GitHub for developing the project.\n",
    "2. The project must be a jupyter notebook.\n",
    "3. There is no restriction on the libraries that can be used, nor on the Python version.\n",
    "4. All questions on the project must be asked in the Discussion forum on the course website.\n",
    "5. At most 3 students can be in each group. You must create the groups by yourself. You can use the Discussion forum to create the groups.\n",
    "6. You do not have to send me the project before the discussion.\n",
    "7. You do not have to prepare any slides for the discussion."
   ]
  },
  {
   "cell_type": "markdown",
   "id": "d65c0a62",
   "metadata": {},
   "source": [
    "1. Extract all trips with trip_distance larger than 50"
   ]
  },
  {
   "cell_type": "markdown",
   "id": "0a8b27d5",
   "metadata": {},
   "source": [
    "2. Extract all trips where payment_type is missing\n"
   ]
  },
  {
   "cell_type": "markdown",
   "id": "c73117b8",
   "metadata": {},
   "source": [
    "3. For each (PULocationID, DOLocationID) pair, determine the number of trips"
   ]
  },
  {
   "cell_type": "markdown",
   "id": "acc4d49a",
   "metadata": {},
   "source": [
    "4. Save all rows with missing VendorID, passenger_count, store_and_fwd_flag, payment_type in a new dataframe called bad, and remove those rows from the original dataframe."
   ]
  },
  {
   "cell_type": "markdown",
   "id": "91444e4c",
   "metadata": {},
   "source": [
    "5. Add a duration column storing how long each trip has taken (use tpep_pickup_datetime, tpep_dropoff_datetime)"
   ]
  },
  {
   "cell_type": "markdown",
   "id": "baf7e7db",
   "metadata": {},
   "source": [
    "6. For each pickup location, determine how many trips have started there.\n"
   ]
  },
  {
   "cell_type": "markdown",
   "id": "0a0e2b49",
   "metadata": {},
   "source": [
    "7. Cluster the pickup time of the day into 30-minute intervals (e.g. from 02:00 to 02:30)\n"
   ]
  },
  {
   "cell_type": "markdown",
   "id": "402c9717",
   "metadata": {},
   "source": [
    "8. For each interval, determine the average number of passengers and the average fare amount.\n"
   ]
  },
  {
   "cell_type": "markdown",
   "id": "b5400064",
   "metadata": {},
   "source": [
    "9. For each payment type and each interval, determine the average fare amount"
   ]
  },
  {
   "cell_type": "markdown",
   "id": "4814bc2f",
   "metadata": {},
   "source": [
    "10. For each payment type, determine the interval when the average fare amount is maximum\n"
   ]
  },
  {
   "cell_type": "markdown",
   "id": "8ffa31fc",
   "metadata": {},
   "source": [
    "11. For each payment type, determine the interval when the overall ratio between the tip and the fare amounts is maximum"
   ]
  },
  {
   "cell_type": "markdown",
   "id": "f14ea9b7",
   "metadata": {},
   "source": [
    "12. Find the location with the highest average fare amount"
   ]
  },
  {
   "cell_type": "markdown",
   "id": "4c50d1ba",
   "metadata": {},
   "source": [
    "13. Build a new dataframe (called common) where, for each pickup location we keep all trips to the 5 most common destinations (i.e. each pickup location can have different common destinations)."
   ]
  },
  {
   "cell_type": "markdown",
   "id": "9cf50ca0",
   "metadata": {},
   "source": [
    "14. On the common dataframe, for each payment type and each interval, determine the average fare amount"
   ]
  },
  {
   "cell_type": "markdown",
   "id": "498a533a",
   "metadata": {},
   "source": [
    "15. Compute the difference of the average fare amount computed in the previous point with those computed at point 9."
   ]
  },
  {
   "cell_type": "markdown",
   "id": "f359f16c",
   "metadata": {},
   "source": [
    "16. Compute the ratio between the differences computed in the previous point and those computed in point 9. Note: you have to compute a ratio for each pair (payment type, interval)."
   ]
  },
  {
   "cell_type": "markdown",
   "id": "d8464cf2",
   "metadata": {},
   "source": [
    "17. Build chains of trips. Two trips are consecutive in a chain if (a) they have the same VendorID, (b) the pickup location of the second trip is also the dropoff location of the first trip, (c) the pickup time of the second trip is after the dropoff time of the first trip, and (d) the pickup time of the second trip is at most 2 minutes later than the dropoff time of the first trip."
   ]
  },
  {
   "cell_type": "markdown",
   "id": "11b9d924",
   "metadata": {},
   "source": [
    "Hint: Add a column chain to the dataset. A chain can have more than two trips."
   ]
  }
 ],
 "metadata": {
  "kernelspec": {
   "display_name": "Python 3 (ipykernel)",
   "language": "python",
   "name": "python3"
  },
  "language_info": {
   "codemirror_mode": {
    "name": "ipython",
    "version": 3
   },
   "file_extension": ".py",
   "mimetype": "text/x-python",
   "name": "python",
   "nbconvert_exporter": "python",
   "pygments_lexer": "ipython3",
   "version": "3.11.7"
  }
 },
 "nbformat": 4,
 "nbformat_minor": 5
}
