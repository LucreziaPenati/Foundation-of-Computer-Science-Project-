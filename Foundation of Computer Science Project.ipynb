{
 "cells": [
  {
   "cell_type": "markdown",
   "id": "d1a50c78-6c9c-400a-92b0-53cbabba941f",
   "metadata": {},
   "source": [
    "You have to work on the (NYC Trip Fare)[https://www.kaggle.com/api/v1/datasets/download/diishasiing/revenue-for-cab-drivers/archive.zip] repository. You can skip the store_and_fwd_flag column, but it’s a bonus point if you can manage it correctly.\n",
    "\n",
    "Notes\n",
    "1. It is mandatory to use GitHub for developing the project.\n",
    "2. The project must be a jupyter notebook.\n",
    "3. There is no restriction on the libraries that can be used, nor on the Python version.\n",
    "4. All questions on the project must be asked in the Discussion forum on the course website.\n",
    "5. At most 3 students can be in each group. You must create the groups by yourself. You can use the Discussion forum to create the groups.\n",
    "6. You do not have to send me the project before the discussion.\n",
    "7. You do not have to prepare any slides for the discussion."
   ]
  },
  {
   "cell_type": "code",
   "execution_count": null,
   "id": "1e40d2be",
   "metadata": {},
   "outputs": [
    {
     "name": "stderr",
     "output_type": "stream",
     "text": [
      "C:\\Users\\1\\AppData\\Local\\Temp\\ipykernel_20436\\3640577101.py:5: DtypeWarning: Columns (6) have mixed types. Specify dtype option on import or set low_memory=False.\n",
      "  df = pd.read_csv('data.csv')\n"
     ]
    }
   ],
   "source": [
    "import pandas as pd\n",
    "import numpy as np\n",
    "\n",
    "\n",
    "df = pd.read_csv('data.csv')\n",
    "# Manage the problem with the store_and_fwd_flag column by replacing NaN values with Unknown so that the column\n",
    "# doesn't have mixed types.\n",
    "df[\"store_and_fwd_flag\"].replace({pd.NA: 'Unknown'}, inplace=True)"
   ]
  },
  {
   "cell_type": "markdown",
   "id": "d65c0a62",
   "metadata": {},
   "source": [
    "1. Extract all trips with trip_distance larger than 50"
   ]
  },
  {
   "cell_type": "code",
   "execution_count": 10,
   "id": "1f4fd8eb",
   "metadata": {},
   "outputs": [
    {
     "data": {
      "text/html": [
       "<div>\n",
       "<style scoped>\n",
       "    .dataframe tbody tr th:only-of-type {\n",
       "        vertical-align: middle;\n",
       "    }\n",
       "\n",
       "    .dataframe tbody tr th {\n",
       "        vertical-align: top;\n",
       "    }\n",
       "\n",
       "    .dataframe thead th {\n",
       "        text-align: right;\n",
       "    }\n",
       "</style>\n",
       "<table border=\"1\" class=\"dataframe\">\n",
       "  <thead>\n",
       "    <tr style=\"text-align: right;\">\n",
       "      <th></th>\n",
       "      <th>VendorID</th>\n",
       "      <th>tpep_pickup_datetime</th>\n",
       "      <th>tpep_dropoff_datetime</th>\n",
       "      <th>passenger_count</th>\n",
       "      <th>trip_distance</th>\n",
       "      <th>RatecodeID</th>\n",
       "      <th>store_and_fwd_flag</th>\n",
       "      <th>PULocationID</th>\n",
       "      <th>DOLocationID</th>\n",
       "      <th>payment_type</th>\n",
       "      <th>fare_amount</th>\n",
       "      <th>extra</th>\n",
       "      <th>mta_tax</th>\n",
       "      <th>tip_amount</th>\n",
       "      <th>tolls_amount</th>\n",
       "      <th>improvement_surcharge</th>\n",
       "      <th>total_amount</th>\n",
       "      <th>congestion_surcharge</th>\n",
       "    </tr>\n",
       "  </thead>\n",
       "  <tbody>\n",
       "    <tr>\n",
       "      <th>23842</th>\n",
       "      <td>2.0</td>\n",
       "      <td>2020-01-01 01:53:07</td>\n",
       "      <td>2020-01-01 03:54:41</td>\n",
       "      <td>1.0</td>\n",
       "      <td>52.30</td>\n",
       "      <td>5.0</td>\n",
       "      <td>N</td>\n",
       "      <td>262</td>\n",
       "      <td>265</td>\n",
       "      <td>1.0</td>\n",
       "      <td>300.0</td>\n",
       "      <td>0.0</td>\n",
       "      <td>0.0</td>\n",
       "      <td>61.78</td>\n",
       "      <td>6.12</td>\n",
       "      <td>0.3</td>\n",
       "      <td>370.70</td>\n",
       "      <td>2.5</td>\n",
       "    </tr>\n",
       "    <tr>\n",
       "      <th>39013</th>\n",
       "      <td>2.0</td>\n",
       "      <td>2020-01-01 02:05:07</td>\n",
       "      <td>2020-01-01 03:03:10</td>\n",
       "      <td>1.0</td>\n",
       "      <td>51.23</td>\n",
       "      <td>5.0</td>\n",
       "      <td>N</td>\n",
       "      <td>264</td>\n",
       "      <td>264</td>\n",
       "      <td>1.0</td>\n",
       "      <td>329.0</td>\n",
       "      <td>0.0</td>\n",
       "      <td>0.5</td>\n",
       "      <td>100.78</td>\n",
       "      <td>6.12</td>\n",
       "      <td>0.3</td>\n",
       "      <td>436.70</td>\n",
       "      <td>0.0</td>\n",
       "    </tr>\n",
       "    <tr>\n",
       "      <th>41620</th>\n",
       "      <td>1.0</td>\n",
       "      <td>2020-01-01 03:05:54</td>\n",
       "      <td>2020-01-01 04:16:26</td>\n",
       "      <td>1.0</td>\n",
       "      <td>53.80</td>\n",
       "      <td>5.0</td>\n",
       "      <td>N</td>\n",
       "      <td>132</td>\n",
       "      <td>265</td>\n",
       "      <td>1.0</td>\n",
       "      <td>250.0</td>\n",
       "      <td>0.0</td>\n",
       "      <td>0.0</td>\n",
       "      <td>53.35</td>\n",
       "      <td>16.62</td>\n",
       "      <td>0.3</td>\n",
       "      <td>320.27</td>\n",
       "      <td>0.0</td>\n",
       "    </tr>\n",
       "    <tr>\n",
       "      <th>58262</th>\n",
       "      <td>2.0</td>\n",
       "      <td>2020-01-01 05:36:12</td>\n",
       "      <td>2020-01-01 06:40:06</td>\n",
       "      <td>1.0</td>\n",
       "      <td>55.23</td>\n",
       "      <td>5.0</td>\n",
       "      <td>N</td>\n",
       "      <td>132</td>\n",
       "      <td>265</td>\n",
       "      <td>2.0</td>\n",
       "      <td>170.0</td>\n",
       "      <td>0.0</td>\n",
       "      <td>0.5</td>\n",
       "      <td>0.00</td>\n",
       "      <td>18.26</td>\n",
       "      <td>0.3</td>\n",
       "      <td>189.06</td>\n",
       "      <td>0.0</td>\n",
       "    </tr>\n",
       "  </tbody>\n",
       "</table>\n",
       "</div>"
      ],
      "text/plain": [
       "       VendorID tpep_pickup_datetime tpep_dropoff_datetime  passenger_count  \\\n",
       "23842       2.0  2020-01-01 01:53:07   2020-01-01 03:54:41              1.0   \n",
       "39013       2.0  2020-01-01 02:05:07   2020-01-01 03:03:10              1.0   \n",
       "41620       1.0  2020-01-01 03:05:54   2020-01-01 04:16:26              1.0   \n",
       "58262       2.0  2020-01-01 05:36:12   2020-01-01 06:40:06              1.0   \n",
       "\n",
       "       trip_distance  RatecodeID store_and_fwd_flag  PULocationID  \\\n",
       "23842          52.30         5.0                  N           262   \n",
       "39013          51.23         5.0                  N           264   \n",
       "41620          53.80         5.0                  N           132   \n",
       "58262          55.23         5.0                  N           132   \n",
       "\n",
       "       DOLocationID  payment_type  fare_amount  extra  mta_tax  tip_amount  \\\n",
       "23842           265           1.0        300.0    0.0      0.0       61.78   \n",
       "39013           264           1.0        329.0    0.0      0.5      100.78   \n",
       "41620           265           1.0        250.0    0.0      0.0       53.35   \n",
       "58262           265           2.0        170.0    0.0      0.5        0.00   \n",
       "\n",
       "       tolls_amount  improvement_surcharge  total_amount  congestion_surcharge  \n",
       "23842          6.12                    0.3        370.70                   2.5  \n",
       "39013          6.12                    0.3        436.70                   0.0  \n",
       "41620         16.62                    0.3        320.27                   0.0  \n",
       "58262         18.26                    0.3        189.06                   0.0  "
      ]
     },
     "execution_count": 10,
     "metadata": {},
     "output_type": "execute_result"
    }
   ],
   "source": [
    "df[df[\"trip_distance\"] > 50].head(4)"
   ]
  },
  {
   "cell_type": "markdown",
   "id": "0a8b27d5",
   "metadata": {},
   "source": [
    "2. Extract all trips where payment_type is missing\n"
   ]
  },
  {
   "cell_type": "code",
   "execution_count": 11,
   "id": "6cecc6ac",
   "metadata": {},
   "outputs": [
    {
     "data": {
      "text/html": [
       "<div>\n",
       "<style scoped>\n",
       "    .dataframe tbody tr th:only-of-type {\n",
       "        vertical-align: middle;\n",
       "    }\n",
       "\n",
       "    .dataframe tbody tr th {\n",
       "        vertical-align: top;\n",
       "    }\n",
       "\n",
       "    .dataframe thead th {\n",
       "        text-align: right;\n",
       "    }\n",
       "</style>\n",
       "<table border=\"1\" class=\"dataframe\">\n",
       "  <thead>\n",
       "    <tr style=\"text-align: right;\">\n",
       "      <th></th>\n",
       "      <th>VendorID</th>\n",
       "      <th>tpep_pickup_datetime</th>\n",
       "      <th>tpep_dropoff_datetime</th>\n",
       "      <th>passenger_count</th>\n",
       "      <th>trip_distance</th>\n",
       "      <th>RatecodeID</th>\n",
       "      <th>store_and_fwd_flag</th>\n",
       "      <th>PULocationID</th>\n",
       "      <th>DOLocationID</th>\n",
       "      <th>payment_type</th>\n",
       "      <th>fare_amount</th>\n",
       "      <th>extra</th>\n",
       "      <th>mta_tax</th>\n",
       "      <th>tip_amount</th>\n",
       "      <th>tolls_amount</th>\n",
       "      <th>improvement_surcharge</th>\n",
       "      <th>total_amount</th>\n",
       "      <th>congestion_surcharge</th>\n",
       "    </tr>\n",
       "  </thead>\n",
       "  <tbody>\n",
       "    <tr>\n",
       "      <th>6339567</th>\n",
       "      <td>NaN</td>\n",
       "      <td>2020-01-01 08:51:00</td>\n",
       "      <td>2020-01-01 09:19:00</td>\n",
       "      <td>NaN</td>\n",
       "      <td>13.69</td>\n",
       "      <td>NaN</td>\n",
       "      <td>Unknown</td>\n",
       "      <td>136</td>\n",
       "      <td>232</td>\n",
       "      <td>NaN</td>\n",
       "      <td>51.05</td>\n",
       "      <td>2.75</td>\n",
       "      <td>0.5</td>\n",
       "      <td>0.0</td>\n",
       "      <td>0.0</td>\n",
       "      <td>0.3</td>\n",
       "      <td>54.60</td>\n",
       "      <td>0.0</td>\n",
       "    </tr>\n",
       "    <tr>\n",
       "      <th>6339568</th>\n",
       "      <td>NaN</td>\n",
       "      <td>2020-01-01 08:38:43</td>\n",
       "      <td>2020-01-01 08:51:08</td>\n",
       "      <td>NaN</td>\n",
       "      <td>3.42</td>\n",
       "      <td>NaN</td>\n",
       "      <td>Unknown</td>\n",
       "      <td>121</td>\n",
       "      <td>9</td>\n",
       "      <td>NaN</td>\n",
       "      <td>27.06</td>\n",
       "      <td>2.75</td>\n",
       "      <td>0.0</td>\n",
       "      <td>0.0</td>\n",
       "      <td>0.0</td>\n",
       "      <td>0.3</td>\n",
       "      <td>30.11</td>\n",
       "      <td>0.0</td>\n",
       "    </tr>\n",
       "    <tr>\n",
       "      <th>6339569</th>\n",
       "      <td>NaN</td>\n",
       "      <td>2020-01-01 08:27:00</td>\n",
       "      <td>2020-01-01 08:32:00</td>\n",
       "      <td>NaN</td>\n",
       "      <td>2.20</td>\n",
       "      <td>NaN</td>\n",
       "      <td>Unknown</td>\n",
       "      <td>197</td>\n",
       "      <td>216</td>\n",
       "      <td>NaN</td>\n",
       "      <td>24.36</td>\n",
       "      <td>2.75</td>\n",
       "      <td>0.5</td>\n",
       "      <td>0.0</td>\n",
       "      <td>0.0</td>\n",
       "      <td>0.3</td>\n",
       "      <td>27.91</td>\n",
       "      <td>0.0</td>\n",
       "    </tr>\n",
       "    <tr>\n",
       "      <th>6339570</th>\n",
       "      <td>NaN</td>\n",
       "      <td>2020-01-01 08:46:00</td>\n",
       "      <td>2020-01-01 08:57:00</td>\n",
       "      <td>NaN</td>\n",
       "      <td>0.84</td>\n",
       "      <td>NaN</td>\n",
       "      <td>Unknown</td>\n",
       "      <td>262</td>\n",
       "      <td>236</td>\n",
       "      <td>NaN</td>\n",
       "      <td>26.08</td>\n",
       "      <td>2.75</td>\n",
       "      <td>0.5</td>\n",
       "      <td>0.0</td>\n",
       "      <td>0.0</td>\n",
       "      <td>0.3</td>\n",
       "      <td>29.63</td>\n",
       "      <td>0.0</td>\n",
       "    </tr>\n",
       "  </tbody>\n",
       "</table>\n",
       "</div>"
      ],
      "text/plain": [
       "         VendorID tpep_pickup_datetime tpep_dropoff_datetime  passenger_count  \\\n",
       "6339567       NaN  2020-01-01 08:51:00   2020-01-01 09:19:00              NaN   \n",
       "6339568       NaN  2020-01-01 08:38:43   2020-01-01 08:51:08              NaN   \n",
       "6339569       NaN  2020-01-01 08:27:00   2020-01-01 08:32:00              NaN   \n",
       "6339570       NaN  2020-01-01 08:46:00   2020-01-01 08:57:00              NaN   \n",
       "\n",
       "         trip_distance  RatecodeID store_and_fwd_flag  PULocationID  \\\n",
       "6339567          13.69         NaN            Unknown           136   \n",
       "6339568           3.42         NaN            Unknown           121   \n",
       "6339569           2.20         NaN            Unknown           197   \n",
       "6339570           0.84         NaN            Unknown           262   \n",
       "\n",
       "         DOLocationID  payment_type  fare_amount  extra  mta_tax  tip_amount  \\\n",
       "6339567           232           NaN        51.05   2.75      0.5         0.0   \n",
       "6339568             9           NaN        27.06   2.75      0.0         0.0   \n",
       "6339569           216           NaN        24.36   2.75      0.5         0.0   \n",
       "6339570           236           NaN        26.08   2.75      0.5         0.0   \n",
       "\n",
       "         tolls_amount  improvement_surcharge  total_amount  \\\n",
       "6339567           0.0                    0.3         54.60   \n",
       "6339568           0.0                    0.3         30.11   \n",
       "6339569           0.0                    0.3         27.91   \n",
       "6339570           0.0                    0.3         29.63   \n",
       "\n",
       "         congestion_surcharge  \n",
       "6339567                   0.0  \n",
       "6339568                   0.0  \n",
       "6339569                   0.0  \n",
       "6339570                   0.0  "
      ]
     },
     "execution_count": 11,
     "metadata": {},
     "output_type": "execute_result"
    }
   ],
   "source": [
    "df[df[\"payment_type\"].isna()].head(4)"
   ]
  },
  {
   "cell_type": "markdown",
   "id": "c73117b8",
   "metadata": {},
   "source": [
    "3. For each (PULocationID, DOLocationID) pair, determine the number of trips"
   ]
  },
  {
   "cell_type": "code",
   "execution_count": 23,
   "id": "d8e13b4d",
   "metadata": {},
   "outputs": [
    {
     "data": {
      "text/plain": [
       "PULocationID  DOLocationID\n",
       "1             1                638\n",
       "              50                 1\n",
       "              68                 1\n",
       "              138                2\n",
       "              140                1\n",
       "                              ... \n",
       "265           259                2\n",
       "              261                1\n",
       "              263                4\n",
       "              264              317\n",
       "              265             2508\n",
       "Length: 31277, dtype: int64"
      ]
     },
     "execution_count": 23,
     "metadata": {},
     "output_type": "execute_result"
    }
   ],
   "source": [
    "trip_counts = df.groupby(['PULocationID', 'DOLocationID']).size()\n",
    "trip_counts"
   ]
  },
  {
   "cell_type": "markdown",
   "id": "acc4d49a",
   "metadata": {},
   "source": [
    "4. Save all rows with missing VendorID, passenger_count, store_and_fwd_flag, payment_type in a new dataframe called bad, and remove those rows from the original dataframe."
   ]
  },
  {
   "cell_type": "markdown",
   "id": "91444e4c",
   "metadata": {},
   "source": [
    "5. Add a duration column storing how long each trip has taken (use tpep_pickup_datetime, tpep_dropoff_datetime)"
   ]
  },
  {
   "cell_type": "markdown",
   "id": "baf7e7db",
   "metadata": {},
   "source": [
    "6. For each pickup location, determine how many trips have started there.\n"
   ]
  },
  {
   "cell_type": "markdown",
   "id": "0a0e2b49",
   "metadata": {},
   "source": [
    "7. Cluster the pickup time of the day into 30-minute intervals (e.g. from 02:00 to 02:30)\n"
   ]
  },
  {
   "cell_type": "markdown",
   "id": "402c9717",
   "metadata": {},
   "source": [
    "8. For each interval, determine the average number of passengers and the average fare amount.\n"
   ]
  },
  {
   "cell_type": "markdown",
   "id": "b5400064",
   "metadata": {},
   "source": [
    "9. For each payment type and each interval, determine the average fare amount"
   ]
  },
  {
   "cell_type": "markdown",
   "id": "4814bc2f",
   "metadata": {},
   "source": [
    "10. For each payment type, determine the interval when the average fare amount is maximum\n"
   ]
  },
  {
   "cell_type": "markdown",
   "id": "8ffa31fc",
   "metadata": {},
   "source": [
    "11. For each payment type, determine the interval when the overall ratio between the tip and the fare amounts is maximum"
   ]
  },
  {
   "cell_type": "markdown",
   "id": "f14ea9b7",
   "metadata": {},
   "source": [
    "12. Find the location with the highest average fare amount"
   ]
  },
  {
   "cell_type": "markdown",
   "id": "4c50d1ba",
   "metadata": {},
   "source": [
    "13. Build a new dataframe (called common) where, for each pickup location we keep all trips to the 5 most common destinations (i.e. each pickup location can have different common destinations)."
   ]
  },
  {
   "cell_type": "markdown",
   "id": "9cf50ca0",
   "metadata": {},
   "source": [
    "14. On the common dataframe, for each payment type and each interval, determine the average fare amount"
   ]
  },
  {
   "cell_type": "markdown",
   "id": "498a533a",
   "metadata": {},
   "source": [
    "15. Compute the difference of the average fare amount computed in the previous point with those computed at point 9."
   ]
  },
  {
   "cell_type": "markdown",
   "id": "f359f16c",
   "metadata": {},
   "source": [
    "16. Compute the ratio between the differences computed in the previous point and those computed in point 9. Note: you have to compute a ratio for each pair (payment type, interval)."
   ]
  },
  {
   "cell_type": "markdown",
   "id": "d8464cf2",
   "metadata": {},
   "source": [
    "17. Build chains of trips. Two trips are consecutive in a chain if (a) they have the same VendorID, (b) the pickup location of the second trip is also the dropoff location of the first trip, (c) the pickup time of the second trip is after the dropoff time of the first trip, and (d) the pickup time of the second trip is at most 2 minutes later than the dropoff time of the first trip."
   ]
  },
  {
   "cell_type": "markdown",
   "id": "11b9d924",
   "metadata": {},
   "source": [
    "Hint: Add a column chain to the dataset. A chain can have more than two trips."
   ]
  }
 ],
 "metadata": {
  "kernelspec": {
   "display_name": "Python 3",
   "language": "python",
   "name": "python3"
  },
  "language_info": {
   "codemirror_mode": {
    "name": "ipython",
    "version": 3
   },
   "file_extension": ".py",
   "mimetype": "text/x-python",
   "name": "python",
   "nbconvert_exporter": "python",
   "pygments_lexer": "ipython3",
   "version": "3.11.2"
  }
 },
 "nbformat": 4,
 "nbformat_minor": 5
}
